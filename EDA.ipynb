{
 "cells": [
  {
   "cell_type": "markdown",
   "metadata": {},
   "source": [
    "Import Required Packages and Data "
   ]
  },
  {
   "cell_type": "code",
   "execution_count": 1,
   "metadata": {},
   "outputs": [],
   "source": [
    "#Importing Pandas, Numpy, Matplotlib, Seaborn and Warings Library\n",
    "import pandas as pd\n",
    "import numpy as np\n",
    "import matplotlib.pyplot as plt\n",
    "import seaborn as sns\n",
    "import plotly.express as px\n",
    "import warnings\n",
    "\n",
    "warnings.filterwarnings(\"ignore\")\n",
    "\n",
    "%matplotlib inline"
   ]
  },
  {
   "cell_type": "markdown",
   "metadata": {},
   "source": [
    "Import the CSV Data as Pandas DataFrame"
   ]
  },
  {
   "cell_type": "code",
   "execution_count": 5,
   "metadata": {},
   "outputs": [],
   "source": [
    "\n",
    "# Load the dataset from a local file\n",
    "df = pd.read_excel(\"data.xlsx\") \n",
    "\n"
   ]
  },
  {
   "cell_type": "markdown",
   "metadata": {},
   "source": [
    "Show Top 5 Records"
   ]
  },
  {
   "cell_type": "code",
   "execution_count": 6,
   "metadata": {},
   "outputs": [
    {
     "data": {
      "text/html": [
       "<div>\n",
       "<style scoped>\n",
       "    .dataframe tbody tr th:only-of-type {\n",
       "        vertical-align: middle;\n",
       "    }\n",
       "\n",
       "    .dataframe tbody tr th {\n",
       "        vertical-align: top;\n",
       "    }\n",
       "\n",
       "    .dataframe thead th {\n",
       "        text-align: right;\n",
       "    }\n",
       "</style>\n",
       "<table border=\"1\" class=\"dataframe\">\n",
       "  <thead>\n",
       "    <tr style=\"text-align: right;\">\n",
       "      <th></th>\n",
       "      <th>Customer_Segment</th>\n",
       "      <th>(All)</th>\n",
       "      <th>Unnamed: 2</th>\n",
       "      <th>Unnamed: 3</th>\n",
       "      <th>Unnamed: 4</th>\n",
       "      <th>Unnamed: 5</th>\n",
       "      <th>Unnamed: 6</th>\n",
       "    </tr>\n",
       "  </thead>\n",
       "  <tbody>\n",
       "    <tr>\n",
       "      <th>0</th>\n",
       "      <td>Department</td>\n",
       "      <td>(All)</td>\n",
       "      <td>NaN</td>\n",
       "      <td>NaN</td>\n",
       "      <td>NaN</td>\n",
       "      <td>NaN</td>\n",
       "      <td>NaN</td>\n",
       "    </tr>\n",
       "    <tr>\n",
       "      <th>1</th>\n",
       "      <td>NaN</td>\n",
       "      <td>NaN</td>\n",
       "      <td>NaN</td>\n",
       "      <td>NaN</td>\n",
       "      <td>NaN</td>\n",
       "      <td>NaN</td>\n",
       "      <td>NaN</td>\n",
       "    </tr>\n",
       "    <tr>\n",
       "      <th>2</th>\n",
       "      <td>Total Profit</td>\n",
       "      <td>Column Labels</td>\n",
       "      <td>NaN</td>\n",
       "      <td>NaN</td>\n",
       "      <td>NaN</td>\n",
       "      <td>NaN</td>\n",
       "      <td>NaN</td>\n",
       "    </tr>\n",
       "    <tr>\n",
       "      <th>3</th>\n",
       "      <td>Region</td>\n",
       "      <td>Clothing</td>\n",
       "      <td>Electronics</td>\n",
       "      <td>Furniture</td>\n",
       "      <td>Healthcare</td>\n",
       "      <td>Software</td>\n",
       "      <td>Grand Total</td>\n",
       "    </tr>\n",
       "    <tr>\n",
       "      <th>4</th>\n",
       "      <td>South America</td>\n",
       "      <td>391346</td>\n",
       "      <td>255365</td>\n",
       "      <td>254313</td>\n",
       "      <td>935258</td>\n",
       "      <td>312705</td>\n",
       "      <td>2148987</td>\n",
       "    </tr>\n",
       "  </tbody>\n",
       "</table>\n",
       "</div>"
      ],
      "text/plain": [
       "  Customer_Segment          (All)   Unnamed: 2 Unnamed: 3  Unnamed: 4  \\\n",
       "0       Department          (All)          NaN        NaN         NaN   \n",
       "1              NaN            NaN          NaN        NaN         NaN   \n",
       "2     Total Profit  Column Labels          NaN        NaN         NaN   \n",
       "3           Region       Clothing  Electronics  Furniture  Healthcare   \n",
       "4    South America         391346       255365     254313      935258   \n",
       "\n",
       "  Unnamed: 5   Unnamed: 6  \n",
       "0        NaN          NaN  \n",
       "1        NaN          NaN  \n",
       "2        NaN          NaN  \n",
       "3   Software  Grand Total  \n",
       "4     312705      2148987  "
      ]
     },
     "execution_count": 6,
     "metadata": {},
     "output_type": "execute_result"
    }
   ],
   "source": [
    "df.head()"
   ]
  },
  {
   "cell_type": "markdown",
   "metadata": {},
   "source": [
    "Inspect Shape of the dataset"
   ]
  },
  {
   "cell_type": "code",
   "execution_count": 7,
   "metadata": {},
   "outputs": [
    {
     "data": {
      "text/plain": [
       "(44, 7)"
      ]
     },
     "execution_count": 7,
     "metadata": {},
     "output_type": "execute_result"
    }
   ],
   "source": [
    "df.shape"
   ]
  },
  {
   "cell_type": "markdown",
   "metadata": {},
   "source": [
    "Check Datatypes in the dataset"
   ]
  },
  {
   "cell_type": "code",
   "execution_count": 8,
   "metadata": {},
   "outputs": [
    {
     "name": "stdout",
     "output_type": "stream",
     "text": [
      "<class 'pandas.core.frame.DataFrame'>\n",
      "RangeIndex: 44 entries, 0 to 43\n",
      "Data columns (total 7 columns):\n",
      " #   Column            Non-Null Count  Dtype \n",
      "---  ------            --------------  ----- \n",
      " 0   Customer_Segment  22 non-null     object\n",
      " 1   (All)             36 non-null     object\n",
      " 2   Unnamed: 2        39 non-null     object\n",
      " 3   Unnamed: 3        7 non-null      object\n",
      " 4   Unnamed: 4        7 non-null      object\n",
      " 5   Unnamed: 5        7 non-null      object\n",
      " 6   Unnamed: 6        7 non-null      object\n",
      "dtypes: object(7)\n",
      "memory usage: 2.5+ KB\n"
     ]
    }
   ],
   "source": [
    "# Check Null and Dtypes\n",
    "df.info()"
   ]
  },
  {
   "cell_type": "markdown",
   "metadata": {},
   "source": [
    "Summary of the dataset"
   ]
  },
  {
   "cell_type": "code",
   "execution_count": 9,
   "metadata": {},
   "outputs": [
    {
     "data": {
      "text/html": [
       "<div>\n",
       "<style scoped>\n",
       "    .dataframe tbody tr th:only-of-type {\n",
       "        vertical-align: middle;\n",
       "    }\n",
       "\n",
       "    .dataframe tbody tr th {\n",
       "        vertical-align: top;\n",
       "    }\n",
       "\n",
       "    .dataframe thead th {\n",
       "        text-align: right;\n",
       "    }\n",
       "</style>\n",
       "<table border=\"1\" class=\"dataframe\">\n",
       "  <thead>\n",
       "    <tr style=\"text-align: right;\">\n",
       "      <th></th>\n",
       "      <th>Customer_Segment</th>\n",
       "      <th>(All)</th>\n",
       "      <th>Unnamed: 2</th>\n",
       "      <th>Unnamed: 3</th>\n",
       "      <th>Unnamed: 4</th>\n",
       "      <th>Unnamed: 5</th>\n",
       "      <th>Unnamed: 6</th>\n",
       "    </tr>\n",
       "  </thead>\n",
       "  <tbody>\n",
       "    <tr>\n",
       "      <th>count</th>\n",
       "      <td>22</td>\n",
       "      <td>36</td>\n",
       "      <td>39</td>\n",
       "      <td>7</td>\n",
       "      <td>7</td>\n",
       "      <td>7</td>\n",
       "      <td>7</td>\n",
       "    </tr>\n",
       "    <tr>\n",
       "      <th>unique</th>\n",
       "      <td>15</td>\n",
       "      <td>14</td>\n",
       "      <td>34</td>\n",
       "      <td>7</td>\n",
       "      <td>7</td>\n",
       "      <td>7</td>\n",
       "      <td>7</td>\n",
       "    </tr>\n",
       "    <tr>\n",
       "      <th>top</th>\n",
       "      <td>Region</td>\n",
       "      <td>Clothing</td>\n",
       "      <td>430504</td>\n",
       "      <td>Furniture</td>\n",
       "      <td>Healthcare</td>\n",
       "      <td>Software</td>\n",
       "      <td>Grand Total</td>\n",
       "    </tr>\n",
       "    <tr>\n",
       "      <th>freq</th>\n",
       "      <td>2</td>\n",
       "      <td>6</td>\n",
       "      <td>2</td>\n",
       "      <td>1</td>\n",
       "      <td>1</td>\n",
       "      <td>1</td>\n",
       "      <td>1</td>\n",
       "    </tr>\n",
       "  </tbody>\n",
       "</table>\n",
       "</div>"
      ],
      "text/plain": [
       "       Customer_Segment     (All)  Unnamed: 2 Unnamed: 3  Unnamed: 4  \\\n",
       "count                22        36          39          7           7   \n",
       "unique               15        14          34          7           7   \n",
       "top              Region  Clothing      430504  Furniture  Healthcare   \n",
       "freq                  2         6           2          1           1   \n",
       "\n",
       "       Unnamed: 5   Unnamed: 6  \n",
       "count           7            7  \n",
       "unique          7            7  \n",
       "top      Software  Grand Total  \n",
       "freq            1            1  "
      ]
     },
     "execution_count": 9,
     "metadata": {},
     "output_type": "execute_result"
    }
   ],
   "source": [
    "# Display summary statistics for a dataframe\n",
    "df.describe()"
   ]
  },
  {
   "cell_type": "markdown",
   "metadata": {},
   "source": [
    "EXPLORING DATA"
   ]
  },
  {
   "cell_type": "code",
   "execution_count": 10,
   "metadata": {},
   "outputs": [
    {
     "name": "stdout",
     "output_type": "stream",
     "text": [
      "We have 0 numerical features : []\n",
      "\n",
      "We have 7 categorical features : ['Customer_Segment', '(All)', 'Unnamed: 2', 'Unnamed: 3', 'Unnamed: 4', 'Unnamed: 5', 'Unnamed: 6']\n"
     ]
    }
   ],
   "source": [
    "# define numerical & categorical columns\n",
    "numeric_features = [feature for feature in df.columns if df[feature].dtype != 'O']  # 'O' -->Object\n",
    "categorical_features = [feature for feature in df.columns if df[feature].dtype == 'O']\n",
    "\n",
    "# print columns\n",
    "print('We have {} numerical features : {}'.format(len(numeric_features), numeric_features))\n",
    "print('\\nWe have {} categorical features : {}'.format(len(categorical_features), categorical_features))"
   ]
  },
  {
   "cell_type": "markdown",
   "metadata": {},
   "source": [
    "proportion of count data on categorical columns"
   ]
  },
  {
   "cell_type": "code",
   "execution_count": 11,
   "metadata": {},
   "outputs": [
    {
     "name": "stdout",
     "output_type": "stream",
     "text": [
      "Customer_Segment\n",
      "Region                 9.090909\n",
      "South America          9.090909\n",
      "Asia-Pacific           9.090909\n",
      "Europe                 9.090909\n",
      "North America          9.090909\n",
      "Africa                 9.090909\n",
      "Grand Total            9.090909\n",
      "Department             4.545455\n",
      "Total Profit           4.545455\n",
      "Payment_Method         4.545455\n",
      "South America Total    4.545455\n",
      "Asia-Pacific Total     4.545455\n",
      "Europe Total           4.545455\n",
      "North America Total    4.545455\n",
      "Africa Total           4.545455\n",
      "Name: proportion, dtype: float64\n",
      "------\n",
      "(All)\n",
      "Clothing         16.666667\n",
      "Electronics      13.888889\n",
      "Furniture        13.888889\n",
      "Healthcare       13.888889\n",
      "Software         13.888889\n",
      "(All)             5.555556\n",
      "Column Labels     2.777778\n",
      "391346            2.777778\n",
      "434212            2.777778\n",
      "623799            2.777778\n",
      "405384            2.777778\n",
      "1069720           2.777778\n",
      "2924461           2.777778\n",
      "Product_Line      2.777778\n",
      "Name: proportion, dtype: float64\n",
      "------\n",
      "Unnamed: 2\n",
      "430504          5.128205\n",
      "395911          5.128205\n",
      "724635          5.128205\n",
      "1976228         5.128205\n",
      "255365          5.128205\n",
      "Electronics     2.564103\n",
      "708873          2.564103\n",
      "3319282         2.564103\n",
      "405384          2.564103\n",
      "323831          2.564103\n",
      "1754161         2.564103\n",
      "1113987         2.564103\n",
      "3916884         2.564103\n",
      "1069720         2.564103\n",
      "1501348         2.564103\n",
      "3472937         2.564103\n",
      "1118265         2.564103\n",
      "8751137         2.564103\n",
      "560509          2.564103\n",
      "2357239         2.564103\n",
      "237715          2.564103\n",
      "623799          2.564103\n",
      "365211          2.564103\n",
      "885268          2.564103\n",
      "242044          2.564103\n",
      "434212          2.564103\n",
      "2148987         2.564103\n",
      "312705          2.564103\n",
      "935258          2.564103\n",
      "254313          2.564103\n",
      "391346          2.564103\n",
      "Total Profit    2.564103\n",
      "3782643         2.564103\n",
      "20493529        2.564103\n",
      "Name: proportion, dtype: float64\n",
      "------\n",
      "Unnamed: 3\n",
      "Furniture    14.285714\n",
      "254313       14.285714\n",
      "242044       14.285714\n",
      "237715       14.285714\n",
      "323831       14.285714\n",
      "1113987      14.285714\n",
      "2171890      14.285714\n",
      "Name: proportion, dtype: float64\n",
      "------\n",
      "Unnamed: 4\n",
      "Healthcare    14.285714\n",
      "935258        14.285714\n",
      "885268        14.285714\n",
      "1501348       14.285714\n",
      "1754161       14.285714\n",
      "3472937       14.285714\n",
      "8548972       14.285714\n",
      "Name: proportion, dtype: float64\n",
      "------\n",
      "Unnamed: 5\n",
      "Software    14.285714\n",
      "312705      14.285714\n",
      "365211      14.285714\n",
      "560509      14.285714\n",
      "708873      14.285714\n",
      "1118265     14.285714\n",
      "3065563     14.285714\n",
      "Name: proportion, dtype: float64\n",
      "------\n",
      "Unnamed: 6\n",
      "Grand Total    14.285714\n",
      "2148987        14.285714\n",
      "2357239        14.285714\n",
      "3319282        14.285714\n",
      "3916884        14.285714\n",
      "8751137        14.285714\n",
      "20493529       14.285714\n",
      "Name: proportion, dtype: float64\n",
      "------\n"
     ]
    }
   ],
   "source": [
    "for col in categorical_features:\n",
    "    print(df[col].value_counts(normalize=True) * 100)\n",
    "    print('------')"
   ]
  },
  {
   "cell_type": "markdown",
   "metadata": {},
   "source": []
  }
 ],
 "metadata": {
  "kernelspec": {
   "display_name": "ML-WK",
   "language": "python",
   "name": "python3"
  },
  "language_info": {
   "codemirror_mode": {
    "name": "ipython",
    "version": 3
   },
   "file_extension": ".py",
   "mimetype": "text/x-python",
   "name": "python",
   "nbconvert_exporter": "python",
   "pygments_lexer": "ipython3",
   "version": "3.11.5"
  }
 },
 "nbformat": 4,
 "nbformat_minor": 2
}
